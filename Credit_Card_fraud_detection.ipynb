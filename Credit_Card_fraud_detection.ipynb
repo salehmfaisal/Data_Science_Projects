{
  "nbformat": 4,
  "nbformat_minor": 0,
  "metadata": {
    "colab": {
      "name": "Credit Card fraud detection.ipynb",
      "provenance": [],
      "authorship_tag": "ABX9TyPzemJMOTSA04yA1LybpnKq",
      "include_colab_link": true
    },
    "kernelspec": {
      "name": "python3",
      "display_name": "Python 3"
    },
    "language_info": {
      "name": "python"
    }
  },
  "cells": [
    {
      "cell_type": "markdown",
      "metadata": {
        "id": "view-in-github",
        "colab_type": "text"
      },
      "source": [
        "<a href=\"https://colab.research.google.com/github/salehmfaisal/Data_Science_Projects/blob/main/Credit_Card_fraud_detection.ipynb\" target=\"_parent\"><img src=\"https://colab.research.google.com/assets/colab-badge.svg\" alt=\"Open In Colab\"/></a>"
      ]
    },
    {
      "cell_type": "markdown",
      "metadata": {
        "id": "O4itsDf6XXrF"
      },
      "source": [
        "# Credit Card Fraud Detection Model"
      ]
    },
    {
      "cell_type": "markdown",
      "metadata": {
        "id": "0J_AU0b1Xg0r"
      },
      "source": [
        "#### Abu Saleh Mosa Faisal"
      ]
    },
    {
      "cell_type": "markdown",
      "metadata": {
        "id": "H-MeVD9TdL7R"
      },
      "source": [
        "Data set link : https://www.kaggle.com/mlg-ulb/creditcardfraud"
      ]
    },
    {
      "cell_type": "markdown",
      "metadata": {
        "id": "myqvzMo5XjxN"
      },
      "source": [
        "Loading required libraries"
      ]
    },
    {
      "cell_type": "code",
      "metadata": {
        "id": "-0jtgmsEXfue"
      },
      "source": [
        "import numpy as np\n",
        "import pandas as pd\n",
        "from sklearn.model_selection import train_test_split\n",
        "from sklearn.linear_model import LogisticRegression\n",
        "from sklearn.metrics import accuracy_score\n",
        "from sklearn.ensemble import RandomForestClassifier\n",
        "from sklearn.ensemble import GradientBoostingClassifier"
      ],
      "execution_count": 29,
      "outputs": []
    },
    {
      "cell_type": "code",
      "metadata": {
        "id": "0GfkdaNvXprw"
      },
      "source": [
        "# loading the dataset to a Pandas DataFrame\n",
        "credit_card_data = pd.read_csv('/content/creditcard.csv')"
      ],
      "execution_count": 3,
      "outputs": []
    },
    {
      "cell_type": "code",
      "metadata": {
        "colab": {
          "base_uri": "https://localhost:8080/",
          "height": 226
        },
        "id": "yXUpRoflXtiB",
        "outputId": "9c303e29-65f3-4331-d9da-ffddcc504c15"
      },
      "source": [
        "credit_card_data.head()"
      ],
      "execution_count": 4,
      "outputs": [
        {
          "output_type": "execute_result",
          "data": {
            "text/html": [
              "<div>\n",
              "<style scoped>\n",
              "    .dataframe tbody tr th:only-of-type {\n",
              "        vertical-align: middle;\n",
              "    }\n",
              "\n",
              "    .dataframe tbody tr th {\n",
              "        vertical-align: top;\n",
              "    }\n",
              "\n",
              "    .dataframe thead th {\n",
              "        text-align: right;\n",
              "    }\n",
              "</style>\n",
              "<table border=\"1\" class=\"dataframe\">\n",
              "  <thead>\n",
              "    <tr style=\"text-align: right;\">\n",
              "      <th></th>\n",
              "      <th>Time</th>\n",
              "      <th>V1</th>\n",
              "      <th>V2</th>\n",
              "      <th>V3</th>\n",
              "      <th>V4</th>\n",
              "      <th>V5</th>\n",
              "      <th>V6</th>\n",
              "      <th>V7</th>\n",
              "      <th>V8</th>\n",
              "      <th>V9</th>\n",
              "      <th>V10</th>\n",
              "      <th>V11</th>\n",
              "      <th>V12</th>\n",
              "      <th>V13</th>\n",
              "      <th>V14</th>\n",
              "      <th>V15</th>\n",
              "      <th>V16</th>\n",
              "      <th>V17</th>\n",
              "      <th>V18</th>\n",
              "      <th>V19</th>\n",
              "      <th>V20</th>\n",
              "      <th>V21</th>\n",
              "      <th>V22</th>\n",
              "      <th>V23</th>\n",
              "      <th>V24</th>\n",
              "      <th>V25</th>\n",
              "      <th>V26</th>\n",
              "      <th>V27</th>\n",
              "      <th>V28</th>\n",
              "      <th>Amount</th>\n",
              "      <th>Class</th>\n",
              "    </tr>\n",
              "  </thead>\n",
              "  <tbody>\n",
              "    <tr>\n",
              "      <th>0</th>\n",
              "      <td>0.0</td>\n",
              "      <td>-1.359807</td>\n",
              "      <td>-0.072781</td>\n",
              "      <td>2.536347</td>\n",
              "      <td>1.378155</td>\n",
              "      <td>-0.338321</td>\n",
              "      <td>0.462388</td>\n",
              "      <td>0.239599</td>\n",
              "      <td>0.098698</td>\n",
              "      <td>0.363787</td>\n",
              "      <td>0.090794</td>\n",
              "      <td>-0.551600</td>\n",
              "      <td>-0.617801</td>\n",
              "      <td>-0.991390</td>\n",
              "      <td>-0.311169</td>\n",
              "      <td>1.468177</td>\n",
              "      <td>-0.470401</td>\n",
              "      <td>0.207971</td>\n",
              "      <td>0.025791</td>\n",
              "      <td>0.403993</td>\n",
              "      <td>0.251412</td>\n",
              "      <td>-0.018307</td>\n",
              "      <td>0.277838</td>\n",
              "      <td>-0.110474</td>\n",
              "      <td>0.066928</td>\n",
              "      <td>0.128539</td>\n",
              "      <td>-0.189115</td>\n",
              "      <td>0.133558</td>\n",
              "      <td>-0.021053</td>\n",
              "      <td>149.62</td>\n",
              "      <td>0</td>\n",
              "    </tr>\n",
              "    <tr>\n",
              "      <th>1</th>\n",
              "      <td>0.0</td>\n",
              "      <td>1.191857</td>\n",
              "      <td>0.266151</td>\n",
              "      <td>0.166480</td>\n",
              "      <td>0.448154</td>\n",
              "      <td>0.060018</td>\n",
              "      <td>-0.082361</td>\n",
              "      <td>-0.078803</td>\n",
              "      <td>0.085102</td>\n",
              "      <td>-0.255425</td>\n",
              "      <td>-0.166974</td>\n",
              "      <td>1.612727</td>\n",
              "      <td>1.065235</td>\n",
              "      <td>0.489095</td>\n",
              "      <td>-0.143772</td>\n",
              "      <td>0.635558</td>\n",
              "      <td>0.463917</td>\n",
              "      <td>-0.114805</td>\n",
              "      <td>-0.183361</td>\n",
              "      <td>-0.145783</td>\n",
              "      <td>-0.069083</td>\n",
              "      <td>-0.225775</td>\n",
              "      <td>-0.638672</td>\n",
              "      <td>0.101288</td>\n",
              "      <td>-0.339846</td>\n",
              "      <td>0.167170</td>\n",
              "      <td>0.125895</td>\n",
              "      <td>-0.008983</td>\n",
              "      <td>0.014724</td>\n",
              "      <td>2.69</td>\n",
              "      <td>0</td>\n",
              "    </tr>\n",
              "    <tr>\n",
              "      <th>2</th>\n",
              "      <td>1.0</td>\n",
              "      <td>-1.358354</td>\n",
              "      <td>-1.340163</td>\n",
              "      <td>1.773209</td>\n",
              "      <td>0.379780</td>\n",
              "      <td>-0.503198</td>\n",
              "      <td>1.800499</td>\n",
              "      <td>0.791461</td>\n",
              "      <td>0.247676</td>\n",
              "      <td>-1.514654</td>\n",
              "      <td>0.207643</td>\n",
              "      <td>0.624501</td>\n",
              "      <td>0.066084</td>\n",
              "      <td>0.717293</td>\n",
              "      <td>-0.165946</td>\n",
              "      <td>2.345865</td>\n",
              "      <td>-2.890083</td>\n",
              "      <td>1.109969</td>\n",
              "      <td>-0.121359</td>\n",
              "      <td>-2.261857</td>\n",
              "      <td>0.524980</td>\n",
              "      <td>0.247998</td>\n",
              "      <td>0.771679</td>\n",
              "      <td>0.909412</td>\n",
              "      <td>-0.689281</td>\n",
              "      <td>-0.327642</td>\n",
              "      <td>-0.139097</td>\n",
              "      <td>-0.055353</td>\n",
              "      <td>-0.059752</td>\n",
              "      <td>378.66</td>\n",
              "      <td>0</td>\n",
              "    </tr>\n",
              "    <tr>\n",
              "      <th>3</th>\n",
              "      <td>1.0</td>\n",
              "      <td>-0.966272</td>\n",
              "      <td>-0.185226</td>\n",
              "      <td>1.792993</td>\n",
              "      <td>-0.863291</td>\n",
              "      <td>-0.010309</td>\n",
              "      <td>1.247203</td>\n",
              "      <td>0.237609</td>\n",
              "      <td>0.377436</td>\n",
              "      <td>-1.387024</td>\n",
              "      <td>-0.054952</td>\n",
              "      <td>-0.226487</td>\n",
              "      <td>0.178228</td>\n",
              "      <td>0.507757</td>\n",
              "      <td>-0.287924</td>\n",
              "      <td>-0.631418</td>\n",
              "      <td>-1.059647</td>\n",
              "      <td>-0.684093</td>\n",
              "      <td>1.965775</td>\n",
              "      <td>-1.232622</td>\n",
              "      <td>-0.208038</td>\n",
              "      <td>-0.108300</td>\n",
              "      <td>0.005274</td>\n",
              "      <td>-0.190321</td>\n",
              "      <td>-1.175575</td>\n",
              "      <td>0.647376</td>\n",
              "      <td>-0.221929</td>\n",
              "      <td>0.062723</td>\n",
              "      <td>0.061458</td>\n",
              "      <td>123.50</td>\n",
              "      <td>0</td>\n",
              "    </tr>\n",
              "    <tr>\n",
              "      <th>4</th>\n",
              "      <td>2.0</td>\n",
              "      <td>-1.158233</td>\n",
              "      <td>0.877737</td>\n",
              "      <td>1.548718</td>\n",
              "      <td>0.403034</td>\n",
              "      <td>-0.407193</td>\n",
              "      <td>0.095921</td>\n",
              "      <td>0.592941</td>\n",
              "      <td>-0.270533</td>\n",
              "      <td>0.817739</td>\n",
              "      <td>0.753074</td>\n",
              "      <td>-0.822843</td>\n",
              "      <td>0.538196</td>\n",
              "      <td>1.345852</td>\n",
              "      <td>-1.119670</td>\n",
              "      <td>0.175121</td>\n",
              "      <td>-0.451449</td>\n",
              "      <td>-0.237033</td>\n",
              "      <td>-0.038195</td>\n",
              "      <td>0.803487</td>\n",
              "      <td>0.408542</td>\n",
              "      <td>-0.009431</td>\n",
              "      <td>0.798278</td>\n",
              "      <td>-0.137458</td>\n",
              "      <td>0.141267</td>\n",
              "      <td>-0.206010</td>\n",
              "      <td>0.502292</td>\n",
              "      <td>0.219422</td>\n",
              "      <td>0.215153</td>\n",
              "      <td>69.99</td>\n",
              "      <td>0</td>\n",
              "    </tr>\n",
              "  </tbody>\n",
              "</table>\n",
              "</div>"
            ],
            "text/plain": [
              "   Time        V1        V2        V3  ...       V27       V28  Amount  Class\n",
              "0   0.0 -1.359807 -0.072781  2.536347  ...  0.133558 -0.021053  149.62      0\n",
              "1   0.0  1.191857  0.266151  0.166480  ... -0.008983  0.014724    2.69      0\n",
              "2   1.0 -1.358354 -1.340163  1.773209  ... -0.055353 -0.059752  378.66      0\n",
              "3   1.0 -0.966272 -0.185226  1.792993  ...  0.062723  0.061458  123.50      0\n",
              "4   2.0 -1.158233  0.877737  1.548718  ...  0.219422  0.215153   69.99      0\n",
              "\n",
              "[5 rows x 31 columns]"
            ]
          },
          "metadata": {},
          "execution_count": 4
        }
      ]
    },
    {
      "cell_type": "code",
      "metadata": {
        "colab": {
          "base_uri": "https://localhost:8080/"
        },
        "id": "hEjTxAxIX0dq",
        "outputId": "24dce91e-eb79-4c55-fa5d-8e8d0f8b7cea"
      },
      "source": [
        "credit_card_data.info()"
      ],
      "execution_count": 5,
      "outputs": [
        {
          "output_type": "stream",
          "name": "stdout",
          "text": [
            "<class 'pandas.core.frame.DataFrame'>\n",
            "RangeIndex: 284807 entries, 0 to 284806\n",
            "Data columns (total 31 columns):\n",
            " #   Column  Non-Null Count   Dtype  \n",
            "---  ------  --------------   -----  \n",
            " 0   Time    284807 non-null  float64\n",
            " 1   V1      284807 non-null  float64\n",
            " 2   V2      284807 non-null  float64\n",
            " 3   V3      284807 non-null  float64\n",
            " 4   V4      284807 non-null  float64\n",
            " 5   V5      284807 non-null  float64\n",
            " 6   V6      284807 non-null  float64\n",
            " 7   V7      284807 non-null  float64\n",
            " 8   V8      284807 non-null  float64\n",
            " 9   V9      284807 non-null  float64\n",
            " 10  V10     284807 non-null  float64\n",
            " 11  V11     284807 non-null  float64\n",
            " 12  V12     284807 non-null  float64\n",
            " 13  V13     284807 non-null  float64\n",
            " 14  V14     284807 non-null  float64\n",
            " 15  V15     284807 non-null  float64\n",
            " 16  V16     284807 non-null  float64\n",
            " 17  V17     284807 non-null  float64\n",
            " 18  V18     284807 non-null  float64\n",
            " 19  V19     284807 non-null  float64\n",
            " 20  V20     284807 non-null  float64\n",
            " 21  V21     284807 non-null  float64\n",
            " 22  V22     284807 non-null  float64\n",
            " 23  V23     284807 non-null  float64\n",
            " 24  V24     284807 non-null  float64\n",
            " 25  V25     284807 non-null  float64\n",
            " 26  V26     284807 non-null  float64\n",
            " 27  V27     284807 non-null  float64\n",
            " 28  V28     284807 non-null  float64\n",
            " 29  Amount  284807 non-null  float64\n",
            " 30  Class   284807 non-null  int64  \n",
            "dtypes: float64(30), int64(1)\n",
            "memory usage: 67.4 MB\n"
          ]
        }
      ]
    },
    {
      "cell_type": "code",
      "metadata": {
        "colab": {
          "base_uri": "https://localhost:8080/"
        },
        "id": "2luDEHPeX5aY",
        "outputId": "7560005b-e807-40df-c170-5e3c4bb2bab4"
      },
      "source": [
        "# checking the number of missing values in each column\n",
        "credit_card_data.isnull().sum()"
      ],
      "execution_count": 6,
      "outputs": [
        {
          "output_type": "execute_result",
          "data": {
            "text/plain": [
              "Time      0\n",
              "V1        0\n",
              "V2        0\n",
              "V3        0\n",
              "V4        0\n",
              "V5        0\n",
              "V6        0\n",
              "V7        0\n",
              "V8        0\n",
              "V9        0\n",
              "V10       0\n",
              "V11       0\n",
              "V12       0\n",
              "V13       0\n",
              "V14       0\n",
              "V15       0\n",
              "V16       0\n",
              "V17       0\n",
              "V18       0\n",
              "V19       0\n",
              "V20       0\n",
              "V21       0\n",
              "V22       0\n",
              "V23       0\n",
              "V24       0\n",
              "V25       0\n",
              "V26       0\n",
              "V27       0\n",
              "V28       0\n",
              "Amount    0\n",
              "Class     0\n",
              "dtype: int64"
            ]
          },
          "metadata": {},
          "execution_count": 6
        }
      ]
    },
    {
      "cell_type": "code",
      "metadata": {
        "colab": {
          "base_uri": "https://localhost:8080/"
        },
        "id": "KbNr7l-QX88a",
        "outputId": "04a977f4-057b-4294-edf6-7510e1346bde"
      },
      "source": [
        "# distribution of legit transactions & fraudulent transactions\n",
        "credit_card_data['Class'].value_counts()"
      ],
      "execution_count": 7,
      "outputs": [
        {
          "output_type": "execute_result",
          "data": {
            "text/plain": [
              "0    284315\n",
              "1       492\n",
              "Name: Class, dtype: int64"
            ]
          },
          "metadata": {},
          "execution_count": 7
        }
      ]
    },
    {
      "cell_type": "markdown",
      "metadata": {
        "id": "0nBnF-jsYDEy"
      },
      "source": [
        "This result shows highly imbalance in data set. Since this imbalanec won't be good for model building, we will do under sampling."
      ]
    },
    {
      "cell_type": "code",
      "metadata": {
        "id": "j2T3J6ilYAPa"
      },
      "source": [
        "# separating the data for analysis\n",
        "legit = credit_card_data[credit_card_data.Class == 0]\n",
        "fraud = credit_card_data[credit_card_data.Class == 1]"
      ],
      "execution_count": 9,
      "outputs": []
    },
    {
      "cell_type": "code",
      "metadata": {
        "colab": {
          "base_uri": "https://localhost:8080/"
        },
        "id": "Uu-MrntdYrYL",
        "outputId": "a2fd069d-e454-4346-f98d-6502f9faf06a"
      },
      "source": [
        "print(legit.shape)\n",
        "print(fraud.shape)"
      ],
      "execution_count": 10,
      "outputs": [
        {
          "output_type": "stream",
          "name": "stdout",
          "text": [
            "(284315, 31)\n",
            "(492, 31)\n"
          ]
        }
      ]
    },
    {
      "cell_type": "code",
      "metadata": {
        "id": "JJd7xy_FYxOa"
      },
      "source": [
        "legit_sample = legit.sample(n=492)"
      ],
      "execution_count": 11,
      "outputs": []
    },
    {
      "cell_type": "markdown",
      "metadata": {
        "id": "x_dmgNFEY2-Q"
      },
      "source": [
        "Concatenate the two data set"
      ]
    },
    {
      "cell_type": "code",
      "metadata": {
        "id": "PMFom6U4Y0_v"
      },
      "source": [
        "df = pd.concat([legit_sample, fraud], axis=0)"
      ],
      "execution_count": 12,
      "outputs": []
    },
    {
      "cell_type": "code",
      "metadata": {
        "colab": {
          "base_uri": "https://localhost:8080/"
        },
        "id": "4SzBLA9BY9z2",
        "outputId": "2f45770b-70a6-442b-f11f-181532ad87fc"
      },
      "source": [
        "df['Class'].value_counts()"
      ],
      "execution_count": 13,
      "outputs": [
        {
          "output_type": "execute_result",
          "data": {
            "text/plain": [
              "1    492\n",
              "0    492\n",
              "Name: Class, dtype: int64"
            ]
          },
          "metadata": {},
          "execution_count": 13
        }
      ]
    },
    {
      "cell_type": "code",
      "metadata": {
        "id": "Lv6hwEryZBZ9"
      },
      "source": [
        "X = df.drop(columns='Class', axis=1)\n",
        "Y = df['Class']"
      ],
      "execution_count": 14,
      "outputs": []
    },
    {
      "cell_type": "markdown",
      "metadata": {
        "id": "NwOUIVVyZJa4"
      },
      "source": [
        "Splitting training and testing set"
      ]
    },
    {
      "cell_type": "code",
      "metadata": {
        "id": "pRpgDjJ_ZGb2"
      },
      "source": [
        "X_train, X_test, Y_train, Y_test = train_test_split(X, Y, test_size=0.2, stratify=Y, random_state=2)"
      ],
      "execution_count": 15,
      "outputs": []
    },
    {
      "cell_type": "code",
      "metadata": {
        "colab": {
          "base_uri": "https://localhost:8080/"
        },
        "id": "Q-wpd9EYZLkU",
        "outputId": "78ff86f6-544d-46a2-8b8f-9d708cf44544"
      },
      "source": [
        "print(X.shape, X_train.shape, X_test.shape)"
      ],
      "execution_count": 16,
      "outputs": [
        {
          "output_type": "stream",
          "name": "stdout",
          "text": [
            "(984, 30) (787, 30) (197, 30)\n"
          ]
        }
      ]
    },
    {
      "cell_type": "markdown",
      "metadata": {
        "id": "Vm52FPl-ZXL1"
      },
      "source": [
        "Model development"
      ]
    },
    {
      "cell_type": "code",
      "metadata": {
        "id": "7Et0x2QVZNm0"
      },
      "source": [
        "model = LogisticRegression()"
      ],
      "execution_count": 17,
      "outputs": []
    },
    {
      "cell_type": "code",
      "metadata": {
        "colab": {
          "base_uri": "https://localhost:8080/"
        },
        "id": "u_PNzMMoZZ6D",
        "outputId": "38fe6350-d631-42aa-df34-4edbee681a44"
      },
      "source": [
        "# training the Logistic Regression Model with Training Data\n",
        "\n",
        "model.fit(X_train, Y_train)"
      ],
      "execution_count": 19,
      "outputs": [
        {
          "output_type": "execute_result",
          "data": {
            "text/plain": [
              "LogisticRegression(C=1.0, class_weight=None, dual=False, fit_intercept=True,\n",
              "                   intercept_scaling=1, l1_ratio=None, max_iter=100,\n",
              "                   multi_class='auto', n_jobs=None, penalty='l2',\n",
              "                   random_state=None, solver='lbfgs', tol=0.0001, verbose=0,\n",
              "                   warm_start=False)"
            ]
          },
          "metadata": {},
          "execution_count": 19
        }
      ]
    },
    {
      "cell_type": "code",
      "metadata": {
        "id": "S3UfcAbXZbhw"
      },
      "source": [
        "# accuracy on test data\n",
        "X_test_prediction = model.predict(X_test)\n",
        "test_data_accuracy = accuracy_score(X_test_prediction, Y_test)"
      ],
      "execution_count": 20,
      "outputs": []
    },
    {
      "cell_type": "code",
      "metadata": {
        "colab": {
          "base_uri": "https://localhost:8080/"
        },
        "id": "UuVpIB3SZjGB",
        "outputId": "558315e8-29b0-43d9-b05a-0851a0d216f5"
      },
      "source": [
        "print('Accuracy score on Test Data : ', test_data_accuracy)"
      ],
      "execution_count": 21,
      "outputs": [
        {
          "output_type": "stream",
          "name": "stdout",
          "text": [
            "Accuracy score on Test Data :  0.9035532994923858\n"
          ]
        }
      ]
    },
    {
      "cell_type": "markdown",
      "metadata": {
        "id": "rNpb50zqZ9q9"
      },
      "source": [
        "Random Forest Classifier"
      ]
    },
    {
      "cell_type": "code",
      "metadata": {
        "id": "ikHI_ClvZkrB"
      },
      "source": [
        "rf= RandomForestClassifier()"
      ],
      "execution_count": 23,
      "outputs": []
    },
    {
      "cell_type": "code",
      "metadata": {
        "colab": {
          "base_uri": "https://localhost:8080/"
        },
        "id": "-uWN9NWJaQyW",
        "outputId": "c1c8b095-aa37-4fab-ccb8-93738c8cd344"
      },
      "source": [
        "rf.fit(X_train, Y_train)"
      ],
      "execution_count": 24,
      "outputs": [
        {
          "output_type": "execute_result",
          "data": {
            "text/plain": [
              "RandomForestClassifier(bootstrap=True, ccp_alpha=0.0, class_weight=None,\n",
              "                       criterion='gini', max_depth=None, max_features='auto',\n",
              "                       max_leaf_nodes=None, max_samples=None,\n",
              "                       min_impurity_decrease=0.0, min_impurity_split=None,\n",
              "                       min_samples_leaf=1, min_samples_split=2,\n",
              "                       min_weight_fraction_leaf=0.0, n_estimators=100,\n",
              "                       n_jobs=None, oob_score=False, random_state=None,\n",
              "                       verbose=0, warm_start=False)"
            ]
          },
          "metadata": {},
          "execution_count": 24
        }
      ]
    },
    {
      "cell_type": "code",
      "metadata": {
        "id": "GfvQe6d6aUAp"
      },
      "source": [
        "# accuracy on test data\n",
        "X_test_prediction = rf.predict(X_test)\n",
        "test_data_accuracy = accuracy_score(X_test_prediction, Y_test)"
      ],
      "execution_count": 25,
      "outputs": []
    },
    {
      "cell_type": "code",
      "metadata": {
        "colab": {
          "base_uri": "https://localhost:8080/"
        },
        "id": "g2g9jBKFaZGj",
        "outputId": "94e2fe86-b04e-4054-98c7-f258a93bdbe2"
      },
      "source": [
        "print('Accuracy score on Test Data : ', test_data_accuracy)"
      ],
      "execution_count": 26,
      "outputs": [
        {
          "output_type": "stream",
          "name": "stdout",
          "text": [
            "Accuracy score on Test Data :  0.9137055837563451\n"
          ]
        }
      ]
    },
    {
      "cell_type": "code",
      "metadata": {
        "id": "nhaWvRpfabO6"
      },
      "source": [
        "gb= GradientBoostingClassifier()"
      ],
      "execution_count": 30,
      "outputs": []
    },
    {
      "cell_type": "code",
      "metadata": {
        "colab": {
          "base_uri": "https://localhost:8080/"
        },
        "id": "uukaFbdAbCMd",
        "outputId": "49412e5b-5aff-4186-edd5-768647408f3e"
      },
      "source": [
        "gb.fit(X_train, Y_train)"
      ],
      "execution_count": 31,
      "outputs": [
        {
          "output_type": "execute_result",
          "data": {
            "text/plain": [
              "GradientBoostingClassifier(ccp_alpha=0.0, criterion='friedman_mse', init=None,\n",
              "                           learning_rate=0.1, loss='deviance', max_depth=3,\n",
              "                           max_features=None, max_leaf_nodes=None,\n",
              "                           min_impurity_decrease=0.0, min_impurity_split=None,\n",
              "                           min_samples_leaf=1, min_samples_split=2,\n",
              "                           min_weight_fraction_leaf=0.0, n_estimators=100,\n",
              "                           n_iter_no_change=None, presort='deprecated',\n",
              "                           random_state=None, subsample=1.0, tol=0.0001,\n",
              "                           validation_fraction=0.1, verbose=0,\n",
              "                           warm_start=False)"
            ]
          },
          "metadata": {},
          "execution_count": 31
        }
      ]
    },
    {
      "cell_type": "code",
      "metadata": {
        "id": "EuM-kI0EbFGg"
      },
      "source": [
        "# accuracy on test data\n",
        "X_test_prediction = gb.predict(X_test)\n",
        "test_data_accuracy = accuracy_score(X_test_prediction, Y_test)"
      ],
      "execution_count": 32,
      "outputs": []
    },
    {
      "cell_type": "code",
      "metadata": {
        "colab": {
          "base_uri": "https://localhost:8080/"
        },
        "id": "AEPbFLH4bI0J",
        "outputId": "d9e292c6-7d61-4c50-96f9-b34e5027c325"
      },
      "source": [
        "print('Accuracy score on Test Data : ', test_data_accuracy)"
      ],
      "execution_count": 33,
      "outputs": [
        {
          "output_type": "stream",
          "name": "stdout",
          "text": [
            "Accuracy score on Test Data :  0.9137055837563451\n"
          ]
        }
      ]
    },
    {
      "cell_type": "code",
      "metadata": {
        "colab": {
          "base_uri": "https://localhost:8080/",
          "height": 444
        },
        "id": "4zAXrJwPb-Ob",
        "outputId": "9d857808-e1b5-4022-9f0c-b7b89edd1c3f"
      },
      "source": [
        "X_test"
      ],
      "execution_count": 34,
      "outputs": [
        {
          "output_type": "execute_result",
          "data": {
            "text/html": [
              "<div>\n",
              "<style scoped>\n",
              "    .dataframe tbody tr th:only-of-type {\n",
              "        vertical-align: middle;\n",
              "    }\n",
              "\n",
              "    .dataframe tbody tr th {\n",
              "        vertical-align: top;\n",
              "    }\n",
              "\n",
              "    .dataframe thead th {\n",
              "        text-align: right;\n",
              "    }\n",
              "</style>\n",
              "<table border=\"1\" class=\"dataframe\">\n",
              "  <thead>\n",
              "    <tr style=\"text-align: right;\">\n",
              "      <th></th>\n",
              "      <th>Time</th>\n",
              "      <th>V1</th>\n",
              "      <th>V2</th>\n",
              "      <th>V3</th>\n",
              "      <th>V4</th>\n",
              "      <th>V5</th>\n",
              "      <th>V6</th>\n",
              "      <th>V7</th>\n",
              "      <th>V8</th>\n",
              "      <th>V9</th>\n",
              "      <th>V10</th>\n",
              "      <th>V11</th>\n",
              "      <th>V12</th>\n",
              "      <th>V13</th>\n",
              "      <th>V14</th>\n",
              "      <th>V15</th>\n",
              "      <th>V16</th>\n",
              "      <th>V17</th>\n",
              "      <th>V18</th>\n",
              "      <th>V19</th>\n",
              "      <th>V20</th>\n",
              "      <th>V21</th>\n",
              "      <th>V22</th>\n",
              "      <th>V23</th>\n",
              "      <th>V24</th>\n",
              "      <th>V25</th>\n",
              "      <th>V26</th>\n",
              "      <th>V27</th>\n",
              "      <th>V28</th>\n",
              "      <th>Amount</th>\n",
              "    </tr>\n",
              "  </thead>\n",
              "  <tbody>\n",
              "    <tr>\n",
              "      <th>247995</th>\n",
              "      <td>153761.0</td>\n",
              "      <td>1.146259</td>\n",
              "      <td>1.403458</td>\n",
              "      <td>-4.159148</td>\n",
              "      <td>2.660107</td>\n",
              "      <td>-0.323217</td>\n",
              "      <td>-1.836071</td>\n",
              "      <td>-1.623740</td>\n",
              "      <td>0.259562</td>\n",
              "      <td>-1.132044</td>\n",
              "      <td>-3.356474</td>\n",
              "      <td>3.646478</td>\n",
              "      <td>-3.002684</td>\n",
              "      <td>-0.647501</td>\n",
              "      <td>-5.945003</td>\n",
              "      <td>0.174650</td>\n",
              "      <td>-1.475640</td>\n",
              "      <td>-3.082274</td>\n",
              "      <td>0.224740</td>\n",
              "      <td>-0.300931</td>\n",
              "      <td>0.284831</td>\n",
              "      <td>0.564450</td>\n",
              "      <td>0.445744</td>\n",
              "      <td>-0.141136</td>\n",
              "      <td>-0.265517</td>\n",
              "      <td>0.362260</td>\n",
              "      <td>-0.416062</td>\n",
              "      <td>0.507370</td>\n",
              "      <td>0.243744</td>\n",
              "      <td>51.37</td>\n",
              "    </tr>\n",
              "    <tr>\n",
              "      <th>107646</th>\n",
              "      <td>70541.0</td>\n",
              "      <td>1.051146</td>\n",
              "      <td>-0.605400</td>\n",
              "      <td>1.081262</td>\n",
              "      <td>0.118529</td>\n",
              "      <td>-1.026143</td>\n",
              "      <td>0.414854</td>\n",
              "      <td>-0.809708</td>\n",
              "      <td>0.353226</td>\n",
              "      <td>0.999114</td>\n",
              "      <td>-0.333255</td>\n",
              "      <td>1.055027</td>\n",
              "      <td>1.134960</td>\n",
              "      <td>-0.527669</td>\n",
              "      <td>-0.241407</td>\n",
              "      <td>-0.701901</td>\n",
              "      <td>-0.191469</td>\n",
              "      <td>0.195592</td>\n",
              "      <td>-0.534402</td>\n",
              "      <td>0.388306</td>\n",
              "      <td>-0.046007</td>\n",
              "      <td>-0.136162</td>\n",
              "      <td>-0.239754</td>\n",
              "      <td>0.068280</td>\n",
              "      <td>0.095630</td>\n",
              "      <td>0.006011</td>\n",
              "      <td>0.951822</td>\n",
              "      <td>-0.030966</td>\n",
              "      <td>0.006615</td>\n",
              "      <td>46.90</td>\n",
              "    </tr>\n",
              "    <tr>\n",
              "      <th>104919</th>\n",
              "      <td>69287.0</td>\n",
              "      <td>1.151843</td>\n",
              "      <td>0.036875</td>\n",
              "      <td>0.535512</td>\n",
              "      <td>0.670571</td>\n",
              "      <td>-0.727872</td>\n",
              "      <td>-1.166725</td>\n",
              "      <td>0.084683</td>\n",
              "      <td>-0.238799</td>\n",
              "      <td>0.102320</td>\n",
              "      <td>-0.085646</td>\n",
              "      <td>-0.013448</td>\n",
              "      <td>0.334610</td>\n",
              "      <td>0.077868</td>\n",
              "      <td>0.265638</td>\n",
              "      <td>0.987135</td>\n",
              "      <td>0.159835</td>\n",
              "      <td>-0.261570</td>\n",
              "      <td>-0.453784</td>\n",
              "      <td>-0.306843</td>\n",
              "      <td>-0.012997</td>\n",
              "      <td>-0.021475</td>\n",
              "      <td>-0.139371</td>\n",
              "      <td>0.008542</td>\n",
              "      <td>0.744933</td>\n",
              "      <td>0.313061</td>\n",
              "      <td>0.386835</td>\n",
              "      <td>-0.047336</td>\n",
              "      <td>0.024422</td>\n",
              "      <td>50.00</td>\n",
              "    </tr>\n",
              "    <tr>\n",
              "      <th>39522</th>\n",
              "      <td>39871.0</td>\n",
              "      <td>1.171553</td>\n",
              "      <td>0.597426</td>\n",
              "      <td>0.306049</td>\n",
              "      <td>2.447813</td>\n",
              "      <td>0.176251</td>\n",
              "      <td>-0.262370</td>\n",
              "      <td>0.270532</td>\n",
              "      <td>-0.038629</td>\n",
              "      <td>-0.819963</td>\n",
              "      <td>0.689343</td>\n",
              "      <td>-0.436263</td>\n",
              "      <td>-0.375189</td>\n",
              "      <td>-0.706437</td>\n",
              "      <td>0.579998</td>\n",
              "      <td>0.620544</td>\n",
              "      <td>0.200787</td>\n",
              "      <td>-0.209157</td>\n",
              "      <td>-0.809916</td>\n",
              "      <td>-1.269007</td>\n",
              "      <td>-0.238081</td>\n",
              "      <td>-0.029224</td>\n",
              "      <td>-0.104998</td>\n",
              "      <td>-0.012646</td>\n",
              "      <td>0.056247</td>\n",
              "      <td>0.513544</td>\n",
              "      <td>0.038413</td>\n",
              "      <td>-0.015341</td>\n",
              "      <td>0.010690</td>\n",
              "      <td>2.28</td>\n",
              "    </tr>\n",
              "    <tr>\n",
              "      <th>15451</th>\n",
              "      <td>26833.0</td>\n",
              "      <td>-20.532751</td>\n",
              "      <td>12.373989</td>\n",
              "      <td>-23.009003</td>\n",
              "      <td>6.144821</td>\n",
              "      <td>-15.587296</td>\n",
              "      <td>-4.384491</td>\n",
              "      <td>-15.939003</td>\n",
              "      <td>13.696416</td>\n",
              "      <td>-3.948455</td>\n",
              "      <td>-8.789723</td>\n",
              "      <td>5.612347</td>\n",
              "      <td>-7.914422</td>\n",
              "      <td>0.307820</td>\n",
              "      <td>-8.328601</td>\n",
              "      <td>-0.006979</td>\n",
              "      <td>-6.824524</td>\n",
              "      <td>-13.316079</td>\n",
              "      <td>-4.921612</td>\n",
              "      <td>1.188204</td>\n",
              "      <td>1.592754</td>\n",
              "      <td>1.754608</td>\n",
              "      <td>-1.466115</td>\n",
              "      <td>-0.856779</td>\n",
              "      <td>0.125777</td>\n",
              "      <td>1.402587</td>\n",
              "      <td>-0.223755</td>\n",
              "      <td>1.574249</td>\n",
              "      <td>0.469201</td>\n",
              "      <td>99.99</td>\n",
              "    </tr>\n",
              "    <tr>\n",
              "      <th>...</th>\n",
              "      <td>...</td>\n",
              "      <td>...</td>\n",
              "      <td>...</td>\n",
              "      <td>...</td>\n",
              "      <td>...</td>\n",
              "      <td>...</td>\n",
              "      <td>...</td>\n",
              "      <td>...</td>\n",
              "      <td>...</td>\n",
              "      <td>...</td>\n",
              "      <td>...</td>\n",
              "      <td>...</td>\n",
              "      <td>...</td>\n",
              "      <td>...</td>\n",
              "      <td>...</td>\n",
              "      <td>...</td>\n",
              "      <td>...</td>\n",
              "      <td>...</td>\n",
              "      <td>...</td>\n",
              "      <td>...</td>\n",
              "      <td>...</td>\n",
              "      <td>...</td>\n",
              "      <td>...</td>\n",
              "      <td>...</td>\n",
              "      <td>...</td>\n",
              "      <td>...</td>\n",
              "      <td>...</td>\n",
              "      <td>...</td>\n",
              "      <td>...</td>\n",
              "      <td>...</td>\n",
              "    </tr>\n",
              "    <tr>\n",
              "      <th>108258</th>\n",
              "      <td>70828.0</td>\n",
              "      <td>0.196707</td>\n",
              "      <td>1.189757</td>\n",
              "      <td>0.704882</td>\n",
              "      <td>2.891388</td>\n",
              "      <td>0.045555</td>\n",
              "      <td>1.245730</td>\n",
              "      <td>-1.198714</td>\n",
              "      <td>-2.421616</td>\n",
              "      <td>-1.232089</td>\n",
              "      <td>0.324239</td>\n",
              "      <td>-1.273935</td>\n",
              "      <td>-0.868686</td>\n",
              "      <td>-1.181945</td>\n",
              "      <td>1.027584</td>\n",
              "      <td>1.688132</td>\n",
              "      <td>0.256216</td>\n",
              "      <td>0.120608</td>\n",
              "      <td>-0.052346</td>\n",
              "      <td>0.329827</td>\n",
              "      <td>0.646616</td>\n",
              "      <td>-1.328132</td>\n",
              "      <td>0.189311</td>\n",
              "      <td>-0.005524</td>\n",
              "      <td>-0.814708</td>\n",
              "      <td>0.400924</td>\n",
              "      <td>0.286281</td>\n",
              "      <td>0.135215</td>\n",
              "      <td>0.257315</td>\n",
              "      <td>0.76</td>\n",
              "    </tr>\n",
              "    <tr>\n",
              "      <th>12108</th>\n",
              "      <td>21046.0</td>\n",
              "      <td>-16.917468</td>\n",
              "      <td>9.669900</td>\n",
              "      <td>-23.736443</td>\n",
              "      <td>11.824990</td>\n",
              "      <td>-9.830548</td>\n",
              "      <td>-2.514829</td>\n",
              "      <td>-17.290657</td>\n",
              "      <td>1.820408</td>\n",
              "      <td>-6.264903</td>\n",
              "      <td>-12.916636</td>\n",
              "      <td>9.567110</td>\n",
              "      <td>-13.717067</td>\n",
              "      <td>0.899541</td>\n",
              "      <td>-13.272965</td>\n",
              "      <td>-0.402260</td>\n",
              "      <td>-7.754094</td>\n",
              "      <td>-11.644603</td>\n",
              "      <td>-4.741303</td>\n",
              "      <td>0.584626</td>\n",
              "      <td>0.996745</td>\n",
              "      <td>-2.336111</td>\n",
              "      <td>0.972755</td>\n",
              "      <td>1.241866</td>\n",
              "      <td>-1.051086</td>\n",
              "      <td>0.038009</td>\n",
              "      <td>0.672317</td>\n",
              "      <td>2.108471</td>\n",
              "      <td>-1.421243</td>\n",
              "      <td>1.00</td>\n",
              "    </tr>\n",
              "    <tr>\n",
              "      <th>99506</th>\n",
              "      <td>67150.0</td>\n",
              "      <td>-1.824295</td>\n",
              "      <td>0.403327</td>\n",
              "      <td>-1.994122</td>\n",
              "      <td>2.756558</td>\n",
              "      <td>-3.139064</td>\n",
              "      <td>0.408185</td>\n",
              "      <td>-1.209045</td>\n",
              "      <td>1.095634</td>\n",
              "      <td>-1.447225</td>\n",
              "      <td>-3.951003</td>\n",
              "      <td>2.560700</td>\n",
              "      <td>-3.411983</td>\n",
              "      <td>-0.781670</td>\n",
              "      <td>-4.732768</td>\n",
              "      <td>-0.433974</td>\n",
              "      <td>-3.306088</td>\n",
              "      <td>-4.231022</td>\n",
              "      <td>-0.750810</td>\n",
              "      <td>2.690808</td>\n",
              "      <td>1.503688</td>\n",
              "      <td>0.838760</td>\n",
              "      <td>0.341727</td>\n",
              "      <td>0.947506</td>\n",
              "      <td>-0.145493</td>\n",
              "      <td>0.049326</td>\n",
              "      <td>0.831065</td>\n",
              "      <td>0.332421</td>\n",
              "      <td>0.252713</td>\n",
              "      <td>489.71</td>\n",
              "    </tr>\n",
              "    <tr>\n",
              "      <th>74496</th>\n",
              "      <td>55614.0</td>\n",
              "      <td>-7.347955</td>\n",
              "      <td>2.397041</td>\n",
              "      <td>-7.572356</td>\n",
              "      <td>5.177819</td>\n",
              "      <td>-2.854838</td>\n",
              "      <td>-1.795239</td>\n",
              "      <td>-8.783235</td>\n",
              "      <td>0.437157</td>\n",
              "      <td>-3.740598</td>\n",
              "      <td>-8.332863</td>\n",
              "      <td>5.763189</td>\n",
              "      <td>-8.707879</td>\n",
              "      <td>-1.716949</td>\n",
              "      <td>-9.577194</td>\n",
              "      <td>0.146369</td>\n",
              "      <td>-7.586491</td>\n",
              "      <td>-12.503931</td>\n",
              "      <td>-4.375631</td>\n",
              "      <td>2.465195</td>\n",
              "      <td>0.073164</td>\n",
              "      <td>-0.175273</td>\n",
              "      <td>0.543325</td>\n",
              "      <td>-0.547955</td>\n",
              "      <td>-0.503722</td>\n",
              "      <td>-0.310933</td>\n",
              "      <td>-0.163986</td>\n",
              "      <td>1.197895</td>\n",
              "      <td>0.378187</td>\n",
              "      <td>0.83</td>\n",
              "    </tr>\n",
              "    <tr>\n",
              "      <th>161518</th>\n",
              "      <td>114267.0</td>\n",
              "      <td>2.009848</td>\n",
              "      <td>-0.889161</td>\n",
              "      <td>0.072738</td>\n",
              "      <td>0.040011</td>\n",
              "      <td>-1.722965</td>\n",
              "      <td>-1.158800</td>\n",
              "      <td>-0.934863</td>\n",
              "      <td>-0.167239</td>\n",
              "      <td>0.274626</td>\n",
              "      <td>0.675829</td>\n",
              "      <td>-0.380707</td>\n",
              "      <td>0.375528</td>\n",
              "      <td>0.190144</td>\n",
              "      <td>-0.199229</td>\n",
              "      <td>0.463272</td>\n",
              "      <td>-1.636554</td>\n",
              "      <td>0.023390</td>\n",
              "      <td>1.364239</td>\n",
              "      <td>-1.428349</td>\n",
              "      <td>-0.635533</td>\n",
              "      <td>-0.016965</td>\n",
              "      <td>0.626993</td>\n",
              "      <td>0.254979</td>\n",
              "      <td>0.921097</td>\n",
              "      <td>-0.268993</td>\n",
              "      <td>-0.196330</td>\n",
              "      <td>0.061166</td>\n",
              "      <td>-0.022630</td>\n",
              "      <td>21.62</td>\n",
              "    </tr>\n",
              "  </tbody>\n",
              "</table>\n",
              "<p>197 rows × 30 columns</p>\n",
              "</div>"
            ],
            "text/plain": [
              "            Time         V1         V2  ...       V27       V28  Amount\n",
              "247995  153761.0   1.146259   1.403458  ...  0.507370  0.243744   51.37\n",
              "107646   70541.0   1.051146  -0.605400  ... -0.030966  0.006615   46.90\n",
              "104919   69287.0   1.151843   0.036875  ... -0.047336  0.024422   50.00\n",
              "39522    39871.0   1.171553   0.597426  ... -0.015341  0.010690    2.28\n",
              "15451    26833.0 -20.532751  12.373989  ...  1.574249  0.469201   99.99\n",
              "...          ...        ...        ...  ...       ...       ...     ...\n",
              "108258   70828.0   0.196707   1.189757  ...  0.135215  0.257315    0.76\n",
              "12108    21046.0 -16.917468   9.669900  ...  2.108471 -1.421243    1.00\n",
              "99506    67150.0  -1.824295   0.403327  ...  0.332421  0.252713  489.71\n",
              "74496    55614.0  -7.347955   2.397041  ...  1.197895  0.378187    0.83\n",
              "161518  114267.0   2.009848  -0.889161  ...  0.061166 -0.022630   21.62\n",
              "\n",
              "[197 rows x 30 columns]"
            ]
          },
          "metadata": {},
          "execution_count": 34
        }
      ]
    },
    {
      "cell_type": "code",
      "metadata": {
        "colab": {
          "base_uri": "https://localhost:8080/"
        },
        "id": "qzJiycQhcoYA",
        "outputId": "c0f1ca30-9335-40a0-cdfa-05040e1d684a"
      },
      "source": [
        "Y_test[247995]"
      ],
      "execution_count": 37,
      "outputs": [
        {
          "output_type": "execute_result",
          "data": {
            "text/plain": [
              "1"
            ]
          },
          "metadata": {},
          "execution_count": 37
        }
      ]
    },
    {
      "cell_type": "markdown",
      "metadata": {
        "id": "NX-3h6sobN2p"
      },
      "source": [
        "We will use Random Forest classifier since it is fast and sharing same prediction accuracy with gradient Boosting"
      ]
    },
    {
      "cell_type": "markdown",
      "metadata": {
        "id": "WcviaYJgbbkV"
      },
      "source": [
        "Predictive modeling system"
      ]
    },
    {
      "cell_type": "code",
      "metadata": {
        "colab": {
          "base_uri": "https://localhost:8080/"
        },
        "id": "3hU6BLhTbKbT",
        "outputId": "8ef279c9-ad62-4d54-a9a4-c37a3823e390"
      },
      "source": [
        "input_data = (153761.0,1.146259,1.403458,-4.159148,2.660107,-0.323217,-1.836071,-1.623740,0.259562,-1.132044,\n",
        "              -3.356474,3.646478,-3.002684,-0.647501,-5.945003,0.174650,-1.475640,-3.082274,0.224740,\n",
        "              -0.300931,0.284831,0.564450,0.445744,-0.141136,-0.265517,0.362260,-0.416062,0.507370,0.243744,51.37)\n",
        "\n",
        "# changing the input_data to a numpy array\n",
        "input_data_as_numpy_array = np.asarray(input_data)\n",
        "\n",
        "# reshape the np array as we are predicting for one instance\n",
        "input_data_reshaped = input_data_as_numpy_array.reshape(1,-1)\n",
        "\n",
        "prediction = rf.predict(input_data_reshaped)\n",
        "print(prediction)\n",
        "\n",
        "if (prediction[0]== 0):\n",
        "  print('Normal Transection')\n",
        "else:\n",
        "  print('Fradulent Transection')\n",
        "\n"
      ],
      "execution_count": 36,
      "outputs": [
        {
          "output_type": "stream",
          "name": "stdout",
          "text": [
            "[1]\n",
            "Fradulent Transection\n"
          ]
        }
      ]
    }
  ]
}